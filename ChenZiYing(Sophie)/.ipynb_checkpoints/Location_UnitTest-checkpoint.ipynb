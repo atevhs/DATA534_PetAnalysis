{
 "cells": [
  {
   "cell_type": "code",
   "execution_count": 3,
   "id": "647f5c97",
   "metadata": {},
   "outputs": [],
   "source": [
    "from location import *"
   ]
  },
  {
   "cell_type": "code",
   "execution_count": 4,
   "id": "4af7a19b",
   "metadata": {},
   "outputs": [
    {
     "name": "stdout",
     "output_type": "stream",
     "text": [
      "Enter your postcode:\n",
      "AA125\n"
     ]
    },
    {
     "data": {
      "text/plain": [
       "'The postcode should not include character!'"
      ]
     },
     "execution_count": 4,
     "metadata": {},
     "output_type": "execute_result"
    }
   ],
   "source": [
    "get_shelter()"
   ]
  },
  {
   "cell_type": "code",
   "execution_count": 5,
   "id": "6a81c21f",
   "metadata": {},
   "outputs": [
    {
     "name": "stdout",
     "output_type": "stream",
     "text": [
      "Enter your postcode:\n",
      "1234\n"
     ]
    },
    {
     "data": {
      "text/plain": [
       "'The postcode should be 5 digit number!'"
      ]
     },
     "execution_count": 5,
     "metadata": {},
     "output_type": "execute_result"
    }
   ],
   "source": [
    "get_shelter()"
   ]
  },
  {
   "cell_type": "code",
   "execution_count": 6,
   "id": "bd7d987c",
   "metadata": {},
   "outputs": [
    {
     "name": "stdout",
     "output_type": "stream",
     "text": [
      "Enter your postcode:\n",
      "12345\n"
     ]
    },
    {
     "data": {
      "text/plain": [
       "'This is not a postcode in the US!'"
      ]
     },
     "execution_count": 6,
     "metadata": {},
     "output_type": "execute_result"
    }
   ],
   "source": [
    "get_shelter()"
   ]
  },
  {
   "cell_type": "code",
   "execution_count": 7,
   "id": "92080381",
   "metadata": {},
   "outputs": [
    {
     "name": "stdout",
     "output_type": "stream",
     "text": [
      "Enter your postcode:\n",
      "30101\n",
      "There are 19 shelters within 10 miles\n",
      "Following is the information:\n"
     ]
    },
    {
     "data": {
      "text/html": [
       "<div>\n",
       "<style scoped>\n",
       "    .dataframe tbody tr th:only-of-type {\n",
       "        vertical-align: middle;\n",
       "    }\n",
       "\n",
       "    .dataframe tbody tr th {\n",
       "        vertical-align: top;\n",
       "    }\n",
       "\n",
       "    .dataframe thead th {\n",
       "        text-align: right;\n",
       "    }\n",
       "</style>\n",
       "<table border=\"1\" class=\"dataframe\">\n",
       "  <thead>\n",
       "    <tr style=\"text-align: right;\">\n",
       "      <th></th>\n",
       "      <th>id</th>\n",
       "      <th>name</th>\n",
       "      <th>phone</th>\n",
       "      <th>website</th>\n",
       "      <th>postcode</th>\n",
       "    </tr>\n",
       "  </thead>\n",
       "  <tbody>\n",
       "    <tr>\n",
       "      <th>0</th>\n",
       "      <td>GA762</td>\n",
       "      <td>Special Touch Animal Rescue</td>\n",
       "      <td>(404) 983-3581</td>\n",
       "      <td>NaN</td>\n",
       "      <td>'30102'</td>\n",
       "    </tr>\n",
       "    <tr>\n",
       "      <th>138</th>\n",
       "      <td>GA491</td>\n",
       "      <td>Canine Crusaders of Atlanta</td>\n",
       "      <td>NaN</td>\n",
       "      <td>NaN</td>\n",
       "      <td>'30101'</td>\n",
       "    </tr>\n",
       "    <tr>\n",
       "      <th>592</th>\n",
       "      <td>GA935</td>\n",
       "      <td>Renegade Rescue</td>\n",
       "      <td>(678) 737-3758</td>\n",
       "      <td>NaN</td>\n",
       "      <td>'30152'</td>\n",
       "    </tr>\n",
       "    <tr>\n",
       "      <th>1923</th>\n",
       "      <td>GA880</td>\n",
       "      <td>Ruff Redemption Rescue, Inc.</td>\n",
       "      <td>NaN</td>\n",
       "      <td>http://ruffredemption.org</td>\n",
       "      <td>'30189'</td>\n",
       "    </tr>\n",
       "    <tr>\n",
       "      <th>2530</th>\n",
       "      <td>GA839</td>\n",
       "      <td>Dog Days Rescue</td>\n",
       "      <td>NaN</td>\n",
       "      <td>NaN</td>\n",
       "      <td>'30152'</td>\n",
       "    </tr>\n",
       "    <tr>\n",
       "      <th>2920</th>\n",
       "      <td>GA106</td>\n",
       "      <td>Forgotten Paws Pet Rescue</td>\n",
       "      <td>please email</td>\n",
       "      <td>NaN</td>\n",
       "      <td>'30101'</td>\n",
       "    </tr>\n",
       "    <tr>\n",
       "      <th>4685</th>\n",
       "      <td>GA954</td>\n",
       "      <td>The Luckie Street Project</td>\n",
       "      <td>(770) 298-0855</td>\n",
       "      <td>http://www.luckiestreetproject.org/</td>\n",
       "      <td>'30144'</td>\n",
       "    </tr>\n",
       "    <tr>\n",
       "      <th>4708</th>\n",
       "      <td>GA853</td>\n",
       "      <td>Purr Nation Cat Alliance</td>\n",
       "      <td>(470) 285-2287</td>\n",
       "      <td>http://www.purrnation.org</td>\n",
       "      <td>'30144'</td>\n",
       "    </tr>\n",
       "    <tr>\n",
       "      <th>5542</th>\n",
       "      <td>GA1024</td>\n",
       "      <td>Amazing Mutts and Wiggle Butts</td>\n",
       "      <td>(678) 355-8021</td>\n",
       "      <td>https://amazingmuttsandwigglebutts.org</td>\n",
       "      <td>'30101'</td>\n",
       "    </tr>\n",
       "    <tr>\n",
       "      <th>6075</th>\n",
       "      <td>GA693</td>\n",
       "      <td>Georgia Canine Adoption Network</td>\n",
       "      <td>NaN</td>\n",
       "      <td>http://www.canineadoptionnetwork.org</td>\n",
       "      <td>'30188'</td>\n",
       "    </tr>\n",
       "    <tr>\n",
       "      <th>6449</th>\n",
       "      <td>GA105</td>\n",
       "      <td>Cherokee Pet Rescue (Cherokee County Humane So...</td>\n",
       "      <td>NaN</td>\n",
       "      <td>NaN</td>\n",
       "      <td>'30189'</td>\n",
       "    </tr>\n",
       "    <tr>\n",
       "      <th>6486</th>\n",
       "      <td>GA717</td>\n",
       "      <td>Kindness Matters Ferret Rescue</td>\n",
       "      <td>(770) 235-0070</td>\n",
       "      <td>http://www.kindnessmattersferretrescue.com</td>\n",
       "      <td>'30101'</td>\n",
       "    </tr>\n",
       "    <tr>\n",
       "      <th>6750</th>\n",
       "      <td>GA327</td>\n",
       "      <td>Bells Ferry Veterinary Hospital</td>\n",
       "      <td>(770) 926-5311</td>\n",
       "      <td>NaN</td>\n",
       "      <td>'30102'</td>\n",
       "    </tr>\n",
       "    <tr>\n",
       "      <th>8576</th>\n",
       "      <td>GA127</td>\n",
       "      <td>Georgia House Rabbit Society</td>\n",
       "      <td>(678) 653-7175</td>\n",
       "      <td>https://www.houserabbitga.com</td>\n",
       "      <td>'30144'</td>\n",
       "    </tr>\n",
       "    <tr>\n",
       "      <th>9138</th>\n",
       "      <td>GA1007</td>\n",
       "      <td>Be Their Voice Animal Rescue, Inc.</td>\n",
       "      <td>(470) 833-7538</td>\n",
       "      <td>https://www.btvarescue.org/</td>\n",
       "      <td>'30101'</td>\n",
       "    </tr>\n",
       "    <tr>\n",
       "      <th>9429</th>\n",
       "      <td>GA1007</td>\n",
       "      <td>Be Their Voice Animal Rescue, Inc.</td>\n",
       "      <td>(470) 833-7538</td>\n",
       "      <td>https://www.btvarescue.org/</td>\n",
       "      <td>'30101'</td>\n",
       "    </tr>\n",
       "    <tr>\n",
       "      <th>9698</th>\n",
       "      <td>GA708</td>\n",
       "      <td>We Are Rescue</td>\n",
       "      <td>(770) 846-2011</td>\n",
       "      <td>NaN</td>\n",
       "      <td>'30189'</td>\n",
       "    </tr>\n",
       "    <tr>\n",
       "      <th>10088</th>\n",
       "      <td>GA500</td>\n",
       "      <td>Good Shepherd Canine Rescue</td>\n",
       "      <td>NaN</td>\n",
       "      <td>NaN</td>\n",
       "      <td>'30188'</td>\n",
       "    </tr>\n",
       "    <tr>\n",
       "      <th>11411</th>\n",
       "      <td>GA486</td>\n",
       "      <td>Mostly Mutts</td>\n",
       "      <td>(770) 272-6888</td>\n",
       "      <td>https://www.mostlymutts.org</td>\n",
       "      <td>'30144'</td>\n",
       "    </tr>\n",
       "  </tbody>\n",
       "</table>\n",
       "</div>"
      ],
      "text/plain": [
       "           id                                               name  \\\n",
       "0       GA762                        Special Touch Animal Rescue   \n",
       "138     GA491                        Canine Crusaders of Atlanta   \n",
       "592     GA935                                    Renegade Rescue   \n",
       "1923    GA880                       Ruff Redemption Rescue, Inc.   \n",
       "2530    GA839                                    Dog Days Rescue   \n",
       "2920    GA106                          Forgotten Paws Pet Rescue   \n",
       "4685    GA954                          The Luckie Street Project   \n",
       "4708    GA853                           Purr Nation Cat Alliance   \n",
       "5542   GA1024                     Amazing Mutts and Wiggle Butts   \n",
       "6075    GA693                    Georgia Canine Adoption Network   \n",
       "6449    GA105  Cherokee Pet Rescue (Cherokee County Humane So...   \n",
       "6486    GA717                     Kindness Matters Ferret Rescue   \n",
       "6750    GA327                    Bells Ferry Veterinary Hospital   \n",
       "8576    GA127                       Georgia House Rabbit Society   \n",
       "9138   GA1007                 Be Their Voice Animal Rescue, Inc.   \n",
       "9429   GA1007                 Be Their Voice Animal Rescue, Inc.   \n",
       "9698    GA708                                      We Are Rescue   \n",
       "10088   GA500                        Good Shepherd Canine Rescue   \n",
       "11411   GA486                                       Mostly Mutts   \n",
       "\n",
       "                phone                                     website postcode  \n",
       "0      (404) 983-3581                                         NaN  '30102'  \n",
       "138               NaN                                         NaN  '30101'  \n",
       "592    (678) 737-3758                                         NaN  '30152'  \n",
       "1923              NaN                   http://ruffredemption.org  '30189'  \n",
       "2530              NaN                                         NaN  '30152'  \n",
       "2920   please email                                           NaN  '30101'  \n",
       "4685   (770) 298-0855         http://www.luckiestreetproject.org/  '30144'  \n",
       "4708   (470) 285-2287                   http://www.purrnation.org  '30144'  \n",
       "5542   (678) 355-8021      https://amazingmuttsandwigglebutts.org  '30101'  \n",
       "6075              NaN        http://www.canineadoptionnetwork.org  '30188'  \n",
       "6449              NaN                                         NaN  '30189'  \n",
       "6486   (770) 235-0070  http://www.kindnessmattersferretrescue.com  '30101'  \n",
       "6750   (770) 926-5311                                         NaN  '30102'  \n",
       "8576   (678) 653-7175               https://www.houserabbitga.com  '30144'  \n",
       "9138   (470) 833-7538                 https://www.btvarescue.org/  '30101'  \n",
       "9429   (470) 833-7538                 https://www.btvarescue.org/  '30101'  \n",
       "9698   (770) 846-2011                                         NaN  '30189'  \n",
       "10088             NaN                                         NaN  '30188'  \n",
       "11411  (770) 272-6888                 https://www.mostlymutts.org  '30144'  "
      ]
     },
     "execution_count": 7,
     "metadata": {},
     "output_type": "execute_result"
    }
   ],
   "source": [
    "get_shelter()"
   ]
  },
  {
   "cell_type": "code",
   "execution_count": null,
   "id": "1f7a4b3d",
   "metadata": {},
   "outputs": [],
   "source": []
  }
 ],
 "metadata": {
  "kernelspec": {
   "display_name": "Python 3 (ipykernel)",
   "language": "python",
   "name": "python3"
  },
  "language_info": {
   "codemirror_mode": {
    "name": "ipython",
    "version": 3
   },
   "file_extension": ".py",
   "mimetype": "text/x-python",
   "name": "python",
   "nbconvert_exporter": "python",
   "pygments_lexer": "ipython3",
   "version": "3.9.12"
  }
 },
 "nbformat": 4,
 "nbformat_minor": 5
}
