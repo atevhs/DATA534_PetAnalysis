{
 "cells": [
  {
   "cell_type": "markdown",
   "id": "a73b0fa6",
   "metadata": {},
   "source": [
    "# Tutorial for PetAnalysis"
   ]
  },
  {
   "cell_type": "markdown",
   "id": "23be5f52",
   "metadata": {},
   "source": [
    "## Introduction\n",
    "\n",
    "This Python-package `petanalysis` contains 11 wrapper functions to get pet available data of the US. These functions process API [https://api.petfinder.com/v2/organizations?page=1](https://api.petfinder.com/v2/organizations?page=1e) to get data from shelter information and process API [https://api.petfinder.com/v2/animals?page=1](https://api.petfinder.com/v2/animals?page=1) to get the animal data. One function provide information for shelters and others provide information about animals. This package contains 8 internal functions, 2 for requesting API, 2 for data wrangling for shelter data, and 2 for data wrangling of animal data for association rules, and 2 for building plots which are not available to user. The list of 3 wrapper functions available to user is given below:\n",
    "\n",
    "1. get_shelter(postcode = None): help the user to narrow down the region\n",
    "2. assoc_rules(pets_data_df, min_supp, min_conf, sort_by_col, rule_cnt): provide initial analysis for user\n",
    "3. visualize(): present data in charts"
   ]
  },
  {
   "cell_type": "markdown",
   "id": "58ce8024",
   "metadata": {},
   "source": [
    "## Install Package\n",
    "\n",
    "```\n",
    "pip install petanalysis\n",
    "```\n",
    "Alternatively, user can install the package from github using command `install_github('atevhs/DATA534_PetAnalysis')"
   ]
  },
  {
   "cell_type": "markdown",
   "id": "fd9f1634",
   "metadata": {},
   "source": [
    "## Import Modules From Package\n",
    "\n",
    "```\n",
    "from petanalysis.location import *\n",
    "from petanalysis.assoc_rules import *\n",
    "from petanalysis.petplot import *\n",
    "```"
   ]
  },
  {
   "cell_type": "markdown",
   "id": "02c0088c",
   "metadata": {},
   "source": [
    "## Display How the Function Works"
   ]
  },
  {
   "cell_type": "markdown",
   "id": "f792a413",
   "metadata": {},
   "source": [
    "### 1. get_shelter\n",
    "This function `get_shelter` returns a dataframe of shelter information of desired district of the US. The function accepts the postcode from the user. If user does not pass any argument then it would prompt a box for user to pass the postcode. The postcode for the US is five digit number, the function would validate the passed input. The returned data is a data frame and contains the columns including the id, name, phone, website and the postcode. The function can be called as below. \n",
    "\n",
    "```\n",
    "get_shelter()\n",
    "```"
   ]
  },
  {
   "cell_type": "markdown",
   "id": "3318728e",
   "metadata": {},
   "source": [
    "### 2. assoc_rules\n",
    "This function `assoc_rules` returns a dataframe of association analysis result. The function accepts 5 arguments from the user to activate the function in mlxtend package. The function can be called as below.\n",
    "\n",
    "```\n",
    "assoc_rules()\n",
    "```"
   ]
  },
  {
   "cell_type": "markdown",
   "id": "f41e11a1",
   "metadata": {},
   "source": [
    "### 3. visualize()\n",
    "\n",
    "This function `visualize()` returns a age histogram  or a size heatmap. The function would prompt the user a box to pass their choice. The return age histogram would show the frequency of four age groups; and the size heatmap would show the information for age and size groups of our data. The function can be called as below. \n",
    "\n",
    "```\n",
    "visualize()\n",
    "```\n",
    "\n",
    "If you choose option 1 you should now see a visualization like this:  \n",
    "![Histogram of age and gender of dogs available for adoption on petfinder.com](HistogramSample.png)"
   ]
  },
  {
   "cell_type": "markdown",
   "id": "13f1bab7",
   "metadata": {},
   "source": [
    "### Note: This package comes with a dataset that was collected using the api listed above. For a refreshed dataset the user will need to get an api key usig the link below and follow the steps given to download the data. Scripts on how to collect multiple pages at a time can be viewed in the 'API data extraction.ipynb' notebook located in the github repo."
   ]
  },
  {
   "cell_type": "code",
   "execution_count": null,
   "id": "ad038277",
   "metadata": {},
   "outputs": [],
   "source": []
  }
 ],
 "metadata": {
  "kernelspec": {
   "display_name": "Python 3 (ipykernel)",
   "language": "python",
   "name": "python3"
  },
  "language_info": {
   "codemirror_mode": {
    "name": "ipython",
    "version": 3
   },
   "file_extension": ".py",
   "mimetype": "text/x-python",
   "name": "python",
   "nbconvert_exporter": "python",
   "pygments_lexer": "ipython3",
   "version": "3.9.12"
  }
 },
 "nbformat": 4,
 "nbformat_minor": 5
}
