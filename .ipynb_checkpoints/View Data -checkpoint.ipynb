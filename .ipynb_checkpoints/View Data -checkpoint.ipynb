{
 "cells": [
  {
   "cell_type": "code",
   "execution_count": 1,
   "id": "107f7bd7",
   "metadata": {},
   "outputs": [],
   "source": [
    "import pandas as pd"
   ]
  },
  {
   "cell_type": "code",
   "execution_count": null,
   "id": "010cf365",
   "metadata": {},
   "outputs": [],
   "source": [
    "org = pd.read_csv(\"Organization_Data.csv\")"
   ]
  },
  {
   "cell_type": "code",
   "execution_count": null,
   "id": "1f2bbabb",
   "metadata": {},
   "outputs": [],
   "source": [
    "print(org['address'][0])\n",
    "print(type(org['address'][0])) # .postcode\n",
    "# str_to_dict(org['address'][0])"
   ]
  },
  {
   "cell_type": "code",
   "execution_count": null,
   "id": "5247c46a",
   "metadata": {},
   "outputs": [],
   "source": [
    "org.head()"
   ]
  },
  {
   "cell_type": "markdown",
   "id": "e836134e",
   "metadata": {},
   "source": [
    "# analysis\n",
    "- id is area + area code\n",
    "- postcode in address column\n",
    "- There are id in animal dataset"
   ]
  },
  {
   "cell_type": "code",
   "execution_count": null,
   "id": "3ed17987",
   "metadata": {},
   "outputs": [],
   "source": [
    "dog = pd.read_csv(\"Dog Data.csv\")"
   ]
  },
  {
   "cell_type": "code",
   "execution_count": null,
   "id": "17f6afb8",
   "metadata": {},
   "outputs": [],
   "source": [
    "dog.columns"
   ]
  },
  {
   "cell_type": "code",
   "execution_count": null,
   "id": "1e8d18fb",
   "metadata": {},
   "outputs": [],
   "source": [
    "org.columns"
   ]
  },
  {
   "cell_type": "code",
   "execution_count": null,
   "id": "1bfabc0a",
   "metadata": {},
   "outputs": [],
   "source": [
    "def str_to_dict(string):\n",
    "    # remove the curly braces from the string\n",
    "    string = string.strip('{}')\n",
    " \n",
    "    # split the string into key-value pairs\n",
    "    pairs = string.split(', ')\n",
    " \n",
    "    # use a dictionary comprehension to create the dictionary, converting the values to integers and removing the quotes from the keys\n",
    "    return {key[1:-1]: value for key, value in (pair.split(': ') for pair in pairs)}\n",
    " "
   ]
  },
  {
   "cell_type": "code",
   "execution_count": null,
   "id": "c7c4a803",
   "metadata": {},
   "outputs": [],
   "source": [
    "dic0 = str_to_dict(org['address'][0])\n",
    "dic0['postcode']"
   ]
  },
  {
   "cell_type": "code",
   "execution_count": null,
   "id": "62549e84",
   "metadata": {},
   "outputs": [],
   "source": [
    "for i in range(len(org['address'])):\n",
    "    print(i)\n",
    "    try:\n",
    "        org['postcode'][i] = str_to_dict(org['address'][i])['postcode']\n",
    "        org['country'][i] = str_to_dict(org['address'][i])['country']\n",
    "    except: \n",
    "        org['postcode'][i] = \"\"\n",
    "        org['country'][i] = \"\""
   ]
  },
  {
   "cell_type": "code",
   "execution_count": null,
   "id": "e6c17662",
   "metadata": {},
   "outputs": [],
   "source": [
    "org.columns"
   ]
  },
  {
   "cell_type": "code",
   "execution_count": null,
   "id": "a860d4d9",
   "metadata": {},
   "outputs": [],
   "source": [
    "str_to_dict(org['address'][1])['postcode']"
   ]
  },
  {
   "cell_type": "code",
   "execution_count": null,
   "id": "992db038",
   "metadata": {},
   "outputs": [],
   "source": []
  }
 ],
 "metadata": {
  "kernelspec": {
   "display_name": "Python 3 (ipykernel)",
   "language": "python",
   "name": "python3"
  },
  "language_info": {
   "codemirror_mode": {
    "name": "ipython",
    "version": 3
   },
   "file_extension": ".py",
   "mimetype": "text/x-python",
   "name": "python",
   "nbconvert_exporter": "python",
   "pygments_lexer": "ipython3",
   "version": "3.9.12"
  }
 },
 "nbformat": 4,
 "nbformat_minor": 5
}
